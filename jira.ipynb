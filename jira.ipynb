{
 "cells": [
  {
   "cell_type": "markdown",
   "metadata": {},
   "source": [
    "# 1. Connect to JIRA\n",
    "\n",
    "Sets the matplotlib outputs to be rendered inline and loads library code into the kernel. Update the `JIRA_HOST` and `JIRA_USERNAME` before running the cell. You may also need to trust this notebook; read through `code.py` before you do that. "
   ]
  },
  {
   "cell_type": "code",
   "execution_count": null,
   "metadata": {},
   "outputs": [],
   "source": [
    "%matplotlib inline\n",
    "%run utils.py\n",
    "\n",
    "from getpass import getpass\n",
    "\n",
    "JIRA_HOST = 'https://yourhost.atlassian.net'\n",
    "JIRA_USERNAME = 'you@example.com'\n",
    "\n",
    "JQL = 'project=YourProject and status in(Done)'\n",
    "\n",
    "jira_client = connect(JIRA_HOST, JIRA_USERNAME, getpass(prompt='Enter JIRA password: '))\n",
    "\n",
    "print('Connected to {client_info}'.format(client_info=jira_client.client_info()))"
   ]
  },
  {
   "cell_type": "markdown",
   "metadata": {},
   "source": [
    "## 2. Load the data\n",
    "Execute the cell below to load the data. `load_data` returns a [DataFrame](https://pandas.pydata.org/pandas-docs/stable/generated/pandas.DataFrame.html) containing a list of JIRA tickets with their key, assigned story points, and the business hours spent in each workflow state. \n",
    "\n",
    "`load_data` will also export the DataFrame to a CSV named 'data.csv'. You can change this path with the `path` keyword parameter.\n",
    "\n",
    "If you have previously excuted this cell and simply want to reload the exported data, pass `refresh=False` as a keyword argument. "
   ]
  },
  {
   "cell_type": "code",
   "execution_count": null,
   "metadata": {},
   "outputs": [],
   "source": [
    "data = load_data(jira_client, JQL)"
   ]
  },
  {
   "cell_type": "markdown",
   "metadata": {},
   "source": [
    "## 3. Plot the data"
   ]
  },
  {
   "cell_type": "code",
   "execution_count": null,
   "metadata": {},
   "outputs": [],
   "source": [
    "TRANSITIONS = ['In Progress', 'In Review', 'Awaiting Deployment']\n",
    "\n",
    "plot_data = data.loc[:, TRANSITIONS].groupby(data['story_points']).mean()\n",
    "ax = plot_data.plot.barh(stacked=True)\n",
    "ax.set_xlabel(\"Hours\")\n",
    "ax.set_ylabel(\"Story Points\")"
   ]
  }
 ],
 "metadata": {
  "kernelspec": {
   "display_name": "Python 3",
   "language": "python",
   "name": "python3"
  },
  "language_info": {
   "codemirror_mode": {
    "name": "ipython",
    "version": 3
   },
   "file_extension": ".py",
   "mimetype": "text/x-python",
   "name": "python",
   "nbconvert_exporter": "python",
   "pygments_lexer": "ipython3",
   "version": "3.6.3"
  }
 },
 "nbformat": 4,
 "nbformat_minor": 2
}
